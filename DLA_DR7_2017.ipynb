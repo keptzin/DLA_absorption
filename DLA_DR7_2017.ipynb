{
  "nbformat": 4,
  "nbformat_minor": 0,
  "metadata": {
    "colab": {
      "provenance": [],
      "authorship_tag": "ABX9TyNb1FB6qgN+hAz/rvW9fZov",
      "include_colab_link": true
    },
    "kernelspec": {
      "name": "python3",
      "display_name": "Python 3"
    },
    "language_info": {
      "name": "python"
    }
  },
  "cells": [
    {
      "cell_type": "markdown",
      "metadata": {
        "id": "view-in-github",
        "colab_type": "text"
      },
      "source": [
        "<a href=\"https://colab.research.google.com/github/keptzin/DLA_absorption/blob/main/DLA_DR7_2017.ipynb\" target=\"_parent\"><img src=\"https://colab.research.google.com/assets/colab-badge.svg\" alt=\"Open In Colab\"/></a>"
      ]
    },
    {
      "cell_type": "code",
      "execution_count": null,
      "metadata": {
        "id": "G_2VJN25UkFQ"
      },
      "outputs": [],
      "source": [
        "from kevlib import common_import_script\n",
        "from kevlib.utils.base_defs import robust_fit\n",
        "from astroquery.sdss import SDSS\n",
        "from astropy import coordinates as coords\n",
        "from matplotlib import pyplot as plt\n",
        "from kevlib.io.sdss import load_sdss_spectrum\n",
        "from kevlib.utils.base_defs import robust_fit\n",
        "\n",
        "from absorber_utils_v4 import *\n",
        "\n",
        "\n",
        "print(\"finished!\")"
      ]
    },
    {
      "cell_type": "code",
      "source": [
        "catalog = np.loadtxt(\"../dla_ml/data_dr9/DR9DLAcatalog.txt\")"
      ],
      "metadata": {
        "id": "8KseAFpFUnQW"
      },
      "execution_count": null,
      "outputs": []
    },
    {
      "cell_type": "code",
      "source": [
        "number = 15\n",
        "for i in range(1, number):\n",
        "\n",
        "    robust_fit_kwargs = dict(\n",
        "        ubm = 20,\n",
        "        sdms = np.linspace(15, 0.2, 20),\n",
        "        smooth_strength = 0.9,\n",
        "        pdeg = 4,\n",
        "        fit_type = 'ss',\n",
        "        plot_q = False,\n",
        "    )\n",
        "\n",
        "    plate = catalog[:,1][i]\n",
        "    fiber = catalog[:,3][i]\n",
        "    redshift = catalog[:,4][i]\n",
        "\n",
        "    spectrum = SDSS.get_spectra(plate = plate, fiberID = fiber)\n",
        "    data = spectrum[0][1].data\n",
        "    wavelength = 10 ** data['loglam']\n",
        "    wavelength = wavelength / (redshift + 1)\n",
        "    flux = data['flux']\n",
        "\n",
        "    cut = (wavelength > 1195) & (wavelength < 1235)\n",
        "    wavelength = wavelength[cut]\n",
        "    flux = flux[cut]\n",
        "\n",
        "    __, flux_continuum, __ = robust_fit(wavelength, flux, ** robust_fit_kwargs)\n",
        "\n",
        "    flux = flux / flux_continuum\n",
        "\n",
        "    plt.figure()\n",
        "    plt.title(\"Damped Lyman Alpha DR7 \")\n",
        "    plt.plot(wavelength, flux, color = \"black\", linewidth = 0.4, label = \"plate: \" + str(plate) + \", fiber: \" + str(fiber) + \", Z: \" + str(redshift))\n",
        "    plt.legend()\n",
        "    plt.axvline(1215, color = \"pink\")"
      ],
      "metadata": {
        "id": "HM75Q-CzUohc"
      },
      "execution_count": null,
      "outputs": []
    }
  ]
}